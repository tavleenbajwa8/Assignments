{
 "cells": [
  {
   "cell_type": "markdown",
   "id": "6aa4f861",
   "metadata": {},
   "source": [
    "The code should be native implementation of python (no extra packages) other than common ones that come pre-installed with python distribution\n",
    "- IT should use both bad character and good suffix \n",
    "- Should use the most appropriate method bad character or good suffix as the case may apply\n",
    "- The code should find all occurrence of 'P' in 'T'\n",
    "-Show the working of the code with sequences (P,T) used in the class (slides)"
   ]
  },
  {
   "cell_type": "code",
   "execution_count": 3,
   "id": "41264852",
   "metadata": {},
   "outputs": [
    {
     "name": "stdout",
     "output_type": "stream",
     "text": [
      "Pattern occur at shift = 10\n"
     ]
    }
   ],
   "source": [
    "# boyer moore bad character heuristics\n",
    "NO_OF_CHARS = 256\n",
    " \n",
    "def badCharRule(string, size):\n",
    "\n",
    "    badChar = [-1]*NO_OF_CHARS\n",
    "    for i in range(size):\n",
    "        badChar[ord(string[i])] = i;\n",
    " \n",
    "    return badChar\n",
    " \n",
    "def search(t, p):\n",
    "    m = len(p)\n",
    "    n = len(t)\n",
    "\n",
    "    badChar = badCharRule(p, m)\n",
    " \n",
    "    s = 0\n",
    "    while(s <= n-m):\n",
    "        j = m-1\n",
    " \n",
    "        while j>=0 and p[j] == t[s+j]:\n",
    "            j -= 1\n",
    " \n",
    "        if j<0:\n",
    "            print(\"Pattern occur at shift = {}\".format(s))\n",
    " \n",
    "           \n",
    "            s += (m-badChar[ord(t[s+m])] if s+m<n else 1)\n",
    "        else:\n",
    "       \n",
    "            s += max(1, j-badChar[ord(t[s+j])])\n",
    " \n",
    " \n",
    "def main():\n",
    "   \n",
    "    t = \"GCTTCTGCTACCTTTTGCGCGCGCGCGGAA\"\n",
    "    p = \"CCTTTTGC\"\n",
    "    search(t, p)\n",
    "\n",
    "if __name__ == '__main__':\n",
    "    main()"
   ]
  },
  {
   "cell_type": "code",
   "execution_count": 4,
   "id": "62bdf278",
   "metadata": {},
   "outputs": [
    {
     "name": "stdout",
     "output_type": "stream",
     "text": [
      "pattern occurs at shift = 10\n"
     ]
    }
   ],
   "source": [
    "# boyer moore good character heuristics\n",
    "def good_suffix(shift, bpos, p, m):\n",
    " \n",
    "    # m is the length of pattern\n",
    "    i = m\n",
    "    j = m + 1\n",
    "    bpos[i] = j\n",
    " \n",
    "    while i > 0:\n",
    "         \n",
    "       \n",
    "        while j <= m and p[i - 1] != p[j - 1]:\n",
    "             \n",
    "           \n",
    "            if shift[j] == 0:\n",
    "                shift[j] = j - i\n",
    " \n",
    "           \n",
    "            j = bpos[j]\n",
    "             \n",
    "       \n",
    "        i -= 1\n",
    "        j -= 1\n",
    "        bpos[i] = j\n",
    "       \n",
    "       \n",
    "def preprocess_case2(shift, bpos, p, m):\n",
    "    j = bpos[0]\n",
    "    for i in range(m + 1):\n",
    "       \n",
    "        if shift[i] == 0:\n",
    "            shift[i] = j\n",
    "             \n",
    "       \n",
    "        if i == j:\n",
    "            j = bpos[j]\n",
    "           \n",
    "           \n",
    "def search(t, p):\n",
    " \n",
    "   \n",
    "    s = 0\n",
    "    m = len(p)\n",
    "    n = len(t)\n",
    " \n",
    "    bpos = [0] * (m + 1)\n",
    " \n",
    "   \n",
    "    shift = [0] * (m + 1)\n",
    " \n",
    "   \n",
    "    good_suffix(shift, bpos, p, m)\n",
    "    preprocess_case2(shift, bpos, p, m)\n",
    " \n",
    "    while s <= n - m:\n",
    "        j = m - 1\n",
    "         \n",
    "       \n",
    "        while j >= 0 and p[j] == t[s + j]:\n",
    "            j -= 1\n",
    "       \n",
    "        if j < 0:\n",
    "            print(\"pattern occurs at shift = %d\" % s)\n",
    "            s += shift[0]\n",
    "        else:\n",
    "             \n",
    "           \n",
    "            s += shift[j + 1]\n",
    " \n",
    "# Driver Code\n",
    "if __name__ == \"__main__\":\n",
    "    t = \"GCTTCTGCTACCTTTTGCGCGCGCGCGGAA\"\n",
    "    p = \"CCTTTTGC\"\n",
    "    search(t, p)"
   ]
  },
  {
   "cell_type": "code",
   "execution_count": null,
   "id": "bfd8ff37",
   "metadata": {},
   "outputs": [],
   "source": []
  }
 ],
 "metadata": {
  "kernelspec": {
   "display_name": "Python 3",
   "language": "python",
   "name": "python3"
  },
  "language_info": {
   "codemirror_mode": {
    "name": "ipython",
    "version": 3
   },
   "file_extension": ".py",
   "mimetype": "text/x-python",
   "name": "python",
   "nbconvert_exporter": "python",
   "pygments_lexer": "ipython3",
   "version": "3.8.8"
  }
 },
 "nbformat": 4,
 "nbformat_minor": 5
}
